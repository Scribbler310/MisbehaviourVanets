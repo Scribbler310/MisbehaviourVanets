{
 "cells": [
  {
   "cell_type": "code",
   "execution_count": null,
   "metadata": {},
   "outputs": [],
   "source": [
    "import numpy as np\n",
    "import pandas as pd\n",
    "import seaborn as sns\n",
    "import matplotlib.pyplot as plt\n",
    "import os\n",
    "import json\n",
    "from numpy import random\n",
    "from sklearn.model_selection import train_test_split\n",
    "from sklearn.linear_model import LogisticRegression\n",
    "from sklearn.neighbors import KNeighborsClassifier\n",
    "from sklearn.metrics import classification_report, confusion_matrix\n",
    "from sklearn.ensemble import RandomForestClassifier\n",
    "from sklearn.metrics import classification_report, confusion_matrix\n",
    "from sklearn.preprocessing import StandardScaler\n",
    "from sklearn.ensemble import StackingClassifier"
   ]
  },
  {
   "cell_type": "code",
   "execution_count": null,
   "metadata": {},
   "outputs": [],
   "source": [
    "ext=('.json')\n",
    "attackerlist=[]\n",
    "for files in os.listdir():\n",
    "    if files.__contains__('A2'):\n",
    "        attackerlist.append(int(files.split(\"-\")[2]))\n",
    "print(attackerlist)"
   ]
  },
  {
   "cell_type": "code",
   "execution_count": null,
   "metadata": {},
   "outputs": [],
   "source": [
    "if(os.path.isfile('bsm.csv')):\n",
    "    os.remove('bsm.csv')\n",
    "for files in os.listdir():\n",
    "    if files.endswith(ext):\n",
    "        atk = pd.read_json(files,lines=True)\n",
    "        atk.drop(['noise','spd_noise','pos_noise'], inplace=True, axis=1,errors='ignore')\n",
    "        atk['reciever']=int(files.split(\"-\")[2])\n",
    "        atk1 = pd.DataFrame(atk['pos'].tolist(), columns=['pos-x1', 'pos-y1', 'pos-z'])\n",
    "        atk1.drop(['pos-z'], inplace=True, axis=1,errors='ignore')\n",
    "        atk2 = pd.DataFrame(atk['spd'].tolist(), columns=['spd-x1', 'spd-y1', 'spd-z'])\n",
    "        atk2.drop(['spd-z'], inplace=True, axis=1,errors='ignore')\n",
    "        frames1=[atk,atk1,atk2]\n",
    "        attack=pd.concat(frames1,axis=1)\n",
    "        attack.drop(['pos','spd'], inplace=True, axis=1,errors='ignore')\n",
    "        bsm = attack[attack[\"type\"] == 3]\n",
    "        cs = ['pos-x1','pos-y1','spd-x1','spd-y1']\n",
    "        g= bsm[cs].shift(-1).add_prefix('prev')\n",
    "        bsm = pd.concat([bsm, g], axis=1).fillna(0).astype(float)\n",
    "        bsm['attacker']=0\n",
    "        bsm.loc[bsm[\"sender\"].isin(attackerlist), \"attacker\"] = 1\n",
    "        bsm.drop(['type','rcvTime','sendTime','messageID'], inplace=True, axis=1,errors='ignore')\n",
    "        bsm.to_csv('bsm.csv', mode='a', header=False, index=False)"
   ]
  },
  {
   "cell_type": "code",
   "execution_count": null,
   "metadata": {},
   "outputs": [],
   "source": [
    "col_names = ['sender','RSSI','reciever','sen-px','sen-py','sen-sx','sen-sy','prev-px','prev-py','prev-sx','prev-sy','attacker']\n",
    "# load dataset\n",
    "pi = pd.read_csv(\"bsm.csv\", header=None, names=col_names)\n",
    "\n",
    "pi['del-px'] = pi['sen-px'] - pi['prev-px']\n",
    "pi['del-py'] = pi['sen-py'] - pi['prev-py']\n",
    "pi['del-sx'] = pi['sen-sx'] - pi['prev-sx']\n",
    "pi['del-sy'] = pi['sen-sy'] - pi['prev-sy']\n",
    "\n",
    "pi[\"receiver-px\"]= np.random.permutation(pi[\"sen-px\"].values)\n",
    "pi[\"receiver-py\"]= np.random.permutation(pi[\"sen-py\"].values)\n",
    "pi[\"receiver-sx\"]= np.random.permutation(pi[\"sen-sx\"].values)\n",
    "pi[\"receiver-sy\"]= np.random.permutation(pi[\"sen-sy\"].values)\n",
    "\n",
    "cs = ['receiver-px','receiver-py'\t,'receiver-sx'\t,'receiver-sy']\n",
    "g= pi[cs].shift(-1).add_prefix('prev-')\n",
    "pi = pd.concat([pi, g], axis=1).fillna(0).astype(float)\n",
    "\n",
    "\n",
    "pi['AoA'] = np.arctan((pi['receiver-py']-pi['sen-py'])/(pi['receiver-px']-pi['sen-px']))\n",
    "pi['delr-px'] = pi['receiver-px'] - pi['prev-receiver-px']\n",
    "pi['delr-py'] = pi['receiver-py'] - pi['prev-receiver-py']\n",
    "pi['delr-sx'] = pi['receiver-sx'] - pi['prev-receiver-sx']\n",
    "pi['delr-sy'] = pi['receiver-sy'] - pi['prev-receiver-sy']\n",
    "\n",
    "\n",
    "ctm = pi.pop('attacker');\n",
    "pi.insert(len(pi.columns),'attacker',ctm)\n",
    "pi"
   ]
  },
  {
   "cell_type": "code",
   "execution_count": null,
   "metadata": {},
   "outputs": [],
   "source": [
    "X = pi.iloc[:,:-1].values\n",
    "y = pi.iloc[:, 28].values\n",
    "\n",
    "\n",
    "X_train, X_test, y_train, y_test = train_test_split(X, y, test_size=0.99,random_state = 42)\n",
    "\n",
    "scaler = StandardScaler()\n",
    "scaler.fit(X_train)\n",
    "\n",
    "X_train = scaler.transform(X_train)\n",
    "X_test = scaler.transform(X_test)\n",
    "\n",
    "knn = KNeighborsClassifier(n_neighbors=5)\n",
    "knn.fit(X_train, y_train)\n",
    "\n",
    "knn_y_pred = knn.predict(X_test)\n",
    "\n",
    "print(confusion_matrix(y_test, knn_y_pred))\n",
    "print(classification_report(y_test, knn_y_pred))"
   ]
  },
  {
   "cell_type": "code",
   "execution_count": null,
   "metadata": {},
   "outputs": [],
   "source": [
    "rf = RandomForestClassifier(n_estimators=100)\n",
    "X_train = scaler.transform(X_train)\n",
    "X_test = scaler.transform(X_test)\n",
    "rf.fit(X_train,y_train)\n",
    "\n",
    "rf_y_pred = rf.predict(X_test)\n",
    "\n",
    "print(confusion_matrix(y_test, rf_y_pred))\n",
    "print(classification_report(y_test, rf_y_pred))"
   ]
  },
  {
   "cell_type": "code",
   "execution_count": null,
   "metadata": {},
   "outputs": [],
   "source": [
    "lr = LogisticRegression()\n",
    "clfStack = StackingClassifier(estimators=[('knn',knn),('rf',rf)],final_estimator=lr,cv=10)\n",
    "\n",
    "clfStack.fit(X_train,y_train);\n",
    "\n",
    "st_pred = clfStack.predict(X_test)\n",
    "\n",
    "print(confusion_matrix(y_test, st_pred))\n",
    "print(classification_report(y_test, st_pred))\n"
   ]
  }
 ],
 "metadata": {
  "kernelspec": {
   "display_name": "Python 3.9.13 ('base')",
   "language": "python",
   "name": "python3"
  },
  "language_info": {
   "name": "python",
   "version": "3.9.13"
  },
  "orig_nbformat": 4,
  "vscode": {
   "interpreter": {
    "hash": "ceb743fe9768ba4b2e581bed7e00f526fa841fbf8b9a176a194f49a1aa37561c"
   }
  }
 },
 "nbformat": 4,
 "nbformat_minor": 2
}
